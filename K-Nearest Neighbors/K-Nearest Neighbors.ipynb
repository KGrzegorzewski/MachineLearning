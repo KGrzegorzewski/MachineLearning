{
  "nbformat": 4,
  "nbformat_minor": 0,
  "metadata": {
    "colab": {
      "name": "New_ML.ipynb",
      "provenance": [],
      "collapsed_sections": [],
      "mount_file_id": "1epp4Z_GarQf5WRvZq3ztmnLWl4XnRGb-",
      "authorship_tag": "ABX9TyMbR5bv9AwcPP5kTr30m5Y7",
      "include_colab_link": true
    },
    "kernelspec": {
      "name": "python3",
      "display_name": "Python 3"
    },
    "accelerator": "GPU"
  },
  "cells": [
    {
      "cell_type": "markdown",
      "metadata": {
        "id": "view-in-github",
        "colab_type": "text"
      },
      "source": [
        "<a href=\"https://colab.research.google.com/github/KGrzegorzewski/MachineLearning/blob/master/K-Nearest%20Neighbors.ipynb\" target=\"_parent\"><img src=\"https://colab.research.google.com/assets/colab-badge.svg\" alt=\"Open In Colab\"/></a>"
      ]
    },
    {
      "cell_type": "code",
      "metadata": {
        "id": "-F69IDHduR5h",
        "colab_type": "code",
        "colab": {}
      },
      "source": [
        "import sklearn\n",
        "from sklearn.utils import shuffle\n",
        "from sklearn.neighbors import KNeighborsClassifier\n",
        "import pandas as pd\n",
        "import numpy as np\n",
        "from sklearn import linear_model, preprocessing"
      ],
      "execution_count": 0,
      "outputs": []
    },
    {
      "cell_type": "code",
      "metadata": {
        "id": "0DuKmCjgtjG0",
        "colab_type": "code",
        "colab": {
          "base_uri": "https://localhost:8080/",
          "height": 191
        },
        "outputId": "37b8e0ea-3c6b-4db2-a356-4280ce1331c5"
      },
      "source": [
        "data = pd.read_csv(\"/content/drive/My Drive/Tech_With_Tim/Neighbour/car.data\") \n",
        "data.head()"
      ],
      "execution_count": 2,
      "outputs": [
        {
          "output_type": "execute_result",
          "data": {
            "text/html": [
              "<div>\n",
              "<style scoped>\n",
              "    .dataframe tbody tr th:only-of-type {\n",
              "        vertical-align: middle;\n",
              "    }\n",
              "\n",
              "    .dataframe tbody tr th {\n",
              "        vertical-align: top;\n",
              "    }\n",
              "\n",
              "    .dataframe thead th {\n",
              "        text-align: right;\n",
              "    }\n",
              "</style>\n",
              "<table border=\"1\" class=\"dataframe\">\n",
              "  <thead>\n",
              "    <tr style=\"text-align: right;\">\n",
              "      <th></th>\n",
              "      <th>buying</th>\n",
              "      <th>maint</th>\n",
              "      <th>door</th>\n",
              "      <th>persons</th>\n",
              "      <th>lug_boot</th>\n",
              "      <th>safety</th>\n",
              "      <th>class</th>\n",
              "    </tr>\n",
              "  </thead>\n",
              "  <tbody>\n",
              "    <tr>\n",
              "      <th>0</th>\n",
              "      <td>vhigh</td>\n",
              "      <td>vhigh</td>\n",
              "      <td>2</td>\n",
              "      <td>2</td>\n",
              "      <td>small</td>\n",
              "      <td>low</td>\n",
              "      <td>unacc</td>\n",
              "    </tr>\n",
              "    <tr>\n",
              "      <th>1</th>\n",
              "      <td>vhigh</td>\n",
              "      <td>vhigh</td>\n",
              "      <td>2</td>\n",
              "      <td>2</td>\n",
              "      <td>small</td>\n",
              "      <td>med</td>\n",
              "      <td>unacc</td>\n",
              "    </tr>\n",
              "    <tr>\n",
              "      <th>2</th>\n",
              "      <td>vhigh</td>\n",
              "      <td>vhigh</td>\n",
              "      <td>2</td>\n",
              "      <td>2</td>\n",
              "      <td>small</td>\n",
              "      <td>high</td>\n",
              "      <td>unacc</td>\n",
              "    </tr>\n",
              "    <tr>\n",
              "      <th>3</th>\n",
              "      <td>vhigh</td>\n",
              "      <td>vhigh</td>\n",
              "      <td>2</td>\n",
              "      <td>2</td>\n",
              "      <td>med</td>\n",
              "      <td>low</td>\n",
              "      <td>unacc</td>\n",
              "    </tr>\n",
              "    <tr>\n",
              "      <th>4</th>\n",
              "      <td>vhigh</td>\n",
              "      <td>vhigh</td>\n",
              "      <td>2</td>\n",
              "      <td>2</td>\n",
              "      <td>med</td>\n",
              "      <td>med</td>\n",
              "      <td>unacc</td>\n",
              "    </tr>\n",
              "  </tbody>\n",
              "</table>\n",
              "</div>"
            ],
            "text/plain": [
              "  buying  maint door persons lug_boot safety  class\n",
              "0  vhigh  vhigh    2       2    small    low  unacc\n",
              "1  vhigh  vhigh    2       2    small    med  unacc\n",
              "2  vhigh  vhigh    2       2    small   high  unacc\n",
              "3  vhigh  vhigh    2       2      med    low  unacc\n",
              "4  vhigh  vhigh    2       2      med    med  unacc"
            ]
          },
          "metadata": {
            "tags": []
          },
          "execution_count": 2
        }
      ]
    },
    {
      "cell_type": "code",
      "metadata": {
        "id": "IABZwVpZt_6A",
        "colab_type": "code",
        "colab": {}
      },
      "source": [
        "#Transformacja danych non-numeric na numeric\n",
        "le = preprocessing.LabelEncoder()\n",
        "buying = le.fit_transform(list(data[\"buying\"]))\n",
        "maint = le.fit_transform(list(data[\"maint\"]))\n",
        "door = le.fit_transform(list(data[\"door\"]))\n",
        "persons = le.fit_transform(list(data[\"persons\"]))\n",
        "lug_boot = le.fit_transform(list(data[\"lug_boot\"]))\n",
        "safety = le.fit_transform(list(data[\"safety\"]))\n",
        "cls = le.fit_transform(list(data[\"class\"]))\n",
        "\n",
        "predict = \"class\""
      ],
      "execution_count": 0,
      "outputs": []
    },
    {
      "cell_type": "code",
      "metadata": {
        "id": "4HOoYojXwNa-",
        "colab_type": "code",
        "colab": {}
      },
      "source": [
        "#Złączenie danych w liste, wygenerowanie danych uczących oraz trenujących\n",
        "X = list(zip(buying, maint, door, persons, lug_boot, safety))\n",
        "y = list(cls)\n",
        "\n",
        "x_train, x_test, y_train, y_test = sklearn.model_selection.train_test_split(X,y, test_size = 0.1)"
      ],
      "execution_count": 0,
      "outputs": []
    },
    {
      "cell_type": "code",
      "metadata": {
        "id": "94QohLlH4dYQ",
        "colab_type": "code",
        "colab": {
          "base_uri": "https://localhost:8080/",
          "height": 33
        },
        "outputId": "b9d36066-eb5f-4575-9322-ffb98a536d2b"
      },
      "source": [
        "#Trenowanie modelu , wyswietlenie dokładności\n", 
        "model = KNeighborsClassifier(n_neighbors=9)\n",
        "model.fit(x_train, y_train)\n",
        "acc = model.score(x_test, y_test)\n",
        "print(acc)"
      ],
      "execution_count": 5,
      "outputs": [
        {
          "output_type": "stream",
          "text": [
            "0.9595375722543352\n"
          ],
          "name": "stdout"
        }
      ]
    },
    {
      "cell_type": "code",
      "metadata": {
        "id": "Lw7GJKYC47X5",
        "colab_type": "code",
        "colab": {}
      },
      "source": [
        "#Wygenerowanie tablicy predicted oraz sprawdzenie danych przeiwdywanych z prawdziwymi\n",
        "predicted = model.predict(x_test)\n",
        "names = [\"unacc\", \"acc\", \"good\", \"vgood\"]\n",
        "\n",
        "for x in range(len(x_test)):\n",
        "  print(\"Predicted: \", names[predicted[x]], \"Data: \", x_test[x], \"Actual: \", names[y_test[x]])\n",
        "  n = model.kneighbors([x_test[x]], 9, True)\n",
        "  print(\"N: \", n)"
      ],
      "execution_count": 0,
      "outputs": []
    }
  ]
}
