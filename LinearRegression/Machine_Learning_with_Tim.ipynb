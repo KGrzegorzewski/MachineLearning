{
  "nbformat": 4,
  "nbformat_minor": 0,
  "metadata": {
    "colab": {
      "name": "Machine_Learning_with_Tim.ipynb",
      "provenance": [],
      "collapsed_sections": [],
      "mount_file_id": "1UTFIuWWD3hmiTKui4rYJ-PSNa5xkXelQ",
      "authorship_tag": "ABX9TyNLwzD9kfEkA2rPMUo3EZNF",
      "include_colab_link": true
    },
    "kernelspec": {
      "name": "python3",
      "display_name": "Python 3"
    },
    "accelerator": "GPU"
  },
  "cells": [
    {
      "cell_type": "markdown",
      "metadata": {
        "id": "view-in-github",
        "colab_type": "text"
      },
      "source": [
        "<a href=\"https://colab.research.google.com/github/KGrzegorzewski/MachineLearning/blob/master/Machine_Learning_with_Tim.ipynb\" target=\"_parent\"><img src=\"https://colab.research.google.com/assets/colab-badge.svg\" alt=\"Open In Colab\"/></a>"
      ]
    },
    {
      "cell_type": "code",
      "metadata": {
        "id": "O3CTwSxPTQGu",
        "colab_type": "code",
        "colab": {}
      },
      "source": [
        "import pandas as pd\n",
        "import numpy as np\n",
        "import sklearn\n",
        "from sklearn import linear_model\n",
        "from sklearn.utils import shuffle"
      ],
      "execution_count": 0,
      "outputs": []
    },
    {
      "cell_type": "code",
      "metadata": {
        "id": "kHJjpCgJZFTH",
        "colab_type": "code",
        "outputId": "fbb2cbf2-7cd7-47fd-8840-4a046fd6faa4",
        "colab": {
          "base_uri": "https://localhost:8080/",
          "height": 33
        }
      },
      "source": [
        "cd '/content/drive/My Drive/Tech_With_Tim/'"
      ],
      "execution_count": 31,
      "outputs": [
        {
          "output_type": "stream",
          "text": [
            "/content/drive/My Drive/Tech_With_Tim\n"
          ],
          "name": "stdout"
        }
      ]
    },
    {
      "cell_type": "code",
      "metadata": {
        "id": "w6RooggeaNdQ",
        "colab_type": "code",
        "colab": {
          "base_uri": "https://localhost:8080/",
          "height": 245
        },
        "outputId": "1459b542-851d-42ac-81c0-101c92921624"
      },
      "source": [
        "#Pobranie danych\n",
        "data = pd.read_csv(\"student-mat.csv\", sep = \";\")\n",
        "print(data.head())\n",
        "#Wybieram tylko interesujące mnie dane\n",
        "data = data[[\"G1\", \"G2\", \"G3\", \"studytime\", \"failures\", \"absences\"]]\n",
        "print(data.head())"
      ],
      "execution_count": 32,
      "outputs": [
        {
          "output_type": "stream",
          "text": [
            "  school sex  age address famsize Pstatus  ...  Walc  health absences  G1  G2  G3\n",
            "0     GP   F   18       U     GT3       A  ...     1       3        6   5   6   6\n",
            "1     GP   F   17       U     GT3       T  ...     1       3        4   5   5   6\n",
            "2     GP   F   15       U     LE3       T  ...     3       3       10   7   8  10\n",
            "3     GP   F   15       U     GT3       T  ...     1       5        2  15  14  15\n",
            "4     GP   F   16       U     GT3       T  ...     2       5        4   6  10  10\n",
            "\n",
            "[5 rows x 33 columns]\n",
            "   G1  G2  G3  studytime  failures  absences\n",
            "0   5   6   6          2         0         6\n",
            "1   5   5   6          2         0         4\n",
            "2   7   8  10          2         3        10\n",
            "3  15  14  15          3         0         2\n",
            "4   6  10  10          2         0         4\n"
          ],
          "name": "stdout"
        }
      ]
    },
    {
      "cell_type": "code",
      "metadata": {
        "id": "V1TbqAFfbocd",
        "colab_type": "code",
        "colab": {}
      },
      "source": [
        "#To zamierzam przewidzieć\n",
        "predict = \"G3\""
      ],
      "execution_count": 0,
      "outputs": []
    },
    {
      "cell_type": "code",
      "metadata": {
        "id": "iHXxl5p4b6NQ",
        "colab_type": "code",
        "colab": {}
      },
      "source": [
        "#Wyrzucam \"G3\" z danych i tworze np.array\n",
        "X = np.array(data.drop([predict], 1))\n",
        "#Tworzę tablice z wartościami, które mają być przewidywane\n",
        "y = np.array(data[predict])"
      ],
      "execution_count": 0,
      "outputs": []
    },
    {
      "cell_type": "code",
      "metadata": {
        "id": "D1wEREZMcgT1",
        "colab_type": "code",
        "colab": {}
      },
      "source": [
        "#Stworzzenie danych testowych oraz trenujących poprzez modul sklearn, dane testujące bedą stanowić 10% całego zbioru danych\n",
        "x_train, x_test, y_train, y_test = sklearn.model_selection.train_test_split(X, y, test_size = 0.1)"
      ],
      "execution_count": 0,
      "outputs": []
    },
    {
      "cell_type": "code",
      "metadata": {
        "id": "55TIrWHJfgJS",
        "colab_type": "code",
        "colab": {
          "base_uri": "https://localhost:8080/",
          "height": 33
        },
        "outputId": "31c4cf34-1fee-4d15-dddc-6698d09fd576"
      },
      "source": [
        "#Stworzenie modelu oraz wytrenowanie na danych treningowych, wypisanie dokładności\n",
        "linear = linear_model.LinearRegression()\n",
        "linear.fit(x_train, y_train)\n",
        "acc = linear.score(x_test, y_test)\n",
        "print(acc)"
      ],
      "execution_count": 43,
      "outputs": [
        {
          "output_type": "stream",
          "text": [
            "0.9258829000744736\n"
          ],
          "name": "stdout"
        }
      ]
    },
    {
      "cell_type": "code",
      "metadata": {
        "id": "mSUCHl69gfFd",
        "colab_type": "code",
        "colab": {
          "base_uri": "https://localhost:8080/",
          "height": 82
        },
        "outputId": "015ffbdb-d27c-4aa5-fef4-554656905ea6"
      },
      "source": [
        "#Parametry liniowej regresji\n",
        "#https://scikit-learn.org/stable/modules/generated/sklearn.linear_model.LinearRegression.html\n",
        "print(\"Co: \\n\", linear.coef_)\n",
        "print(\"Intercept: \\n\", linear.intercept_)"
      ],
      "execution_count": 44,
      "outputs": [
        {
          "output_type": "stream",
          "text": [
            "Co: \n",
            " [ 0.15591873  0.99428878 -0.24636515 -0.2282284   0.0372726 ]\n",
            "Intercept: \n",
            " -1.6104835420620809\n"
          ],
          "name": "stdout"
        }
      ]
    },
    {
      "cell_type": "code",
      "metadata": {
        "id": "1EoiTGO1hsgt",
        "colab_type": "code",
        "colab": {
          "base_uri": "https://localhost:8080/",
          "height": 667
        },
        "outputId": "e56875e4-0732-4c7d-85ad-6bd0466ef872"
      },
      "source": [
        "#Sprawdzmy jak wyglada predykcja oraz faktyczna wartość oceny\n",
        "predictions = linear.predict(x_test)\n",
        "for x in range(len(predictions)):\n",
        "  print(predictions[x], x_test[x], y_test[x])"
      ],
      "execution_count": 47,
      "outputs": [
        {
          "output_type": "stream",
          "text": [
            "4.865748128492973 [5 6 2 0 6] 6\n",
            "7.392157663553252 [5 9 2 2 6] 7\n",
            "17.294395156097494 [16 17  2  0  0] 17\n",
            "7.265673433555532 [8 8 1 1 4] 8\n",
            "4.343695671720654 [ 6  5  1  1 14] 5\n",
            "5.103040388062619 [7 6 2 0 4] 6\n",
            "3.952832873946779 [6 5 2 0 4] 6\n",
            "11.74201910896408 [14 12  4  0  6] 13\n",
            "14.453790919435821 [15 14  2  0  8] 14\n",
            "12.37713485646201 [10 13  2  1  6] 13\n",
            "3.5936508051090206 [6 5 1 2 0] 0\n",
            "12.693565099634133 [12 13  2  0  0] 13\n",
            "13.1544929868735 [14 13  2  0  4] 13\n",
            "14.32060171107629 [14 14  1  0  2] 13\n",
            "12.924029043253817 [13 13  2  0  2] 13\n",
            "-1.2581478624068738 [7 0 3 0 0] 0\n",
            "6.253247902178459 [8 7 2 0 4] 6\n",
            "16.539643214134767 [15 16  1  0  4] 15\n",
            "-1.011782708700242 [7 0 2 0 0] 0\n",
            "7.783009778360462 [10  8  2  0 10] 8\n",
            "18.69096782391997 [17 18  1  0  0] 18\n",
            "9.08702382289017 [ 8 10  2  0  0] 12\n",
            "8.793199768166808 [9 9 1 0 8] 10\n",
            "14.89670539260566 [14 15  3  0  4] 16\n",
            "9.31065945055989 [ 8 10  2  0  6] 10\n",
            "7.640747675863945 [11  8  2  0  2] 8\n",
            "7.098446263451375 [8 8 2 0 0] 9\n",
            "13.075364039887319 [10 13  1  0 12] 12\n",
            "6.306421716877027 [7 7 1 0 3] 8\n",
            "9.547951710129537 [10 10  2  0  4] 10\n",
            "5.44991656624677 [7 7 2 3 5] 7\n",
            "7.9321001968069424 [10  8  2  0 14] 9\n",
            "16.54647153008473 [16 16  1  0  0] 15\n",
            "15.073995521526772 [16 15  4  0  7] 17\n",
            "12.383839834823823 [14 12  2  0 10] 11\n",
            "16.25464732430427 [16 16  4  0 12] 16\n",
            "8.092622388549287 [ 6  9  1  2 14] 8\n",
            "9.12976661193951 [10 10  4  0  6] 11\n",
            "8.462989555506605 [ 8  8  1  0 30] 8\n",
            "-1.1677014430966852 [6 0 2 0 0] 0\n"
          ],
          "name": "stdout"
        }
      ]
    }
  ]
}
