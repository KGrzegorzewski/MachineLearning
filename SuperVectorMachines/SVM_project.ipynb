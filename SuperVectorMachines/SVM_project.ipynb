{
  "nbformat": 4,
  "nbformat_minor": 0,
  "metadata": {
    "colab": {
      "name": "SVM.ipynb",
      "provenance": [],
      "collapsed_sections": [],
      "mount_file_id": "1_vu-QMgue7mm_dfyxAz9PJScieQSRj_n",
      "authorship_tag": "ABX9TyPsJDuG/Sf/WtTGJVFrWYBX",
      "include_colab_link": true
    },
    "kernelspec": {
      "name": "python3",
      "display_name": "Python 3"
    }
  },
  "cells": [
    {
      "cell_type": "markdown",
      "metadata": {
        "id": "view-in-github",
        "colab_type": "text"
      },
      "source": [
        "<a href=\"https://colab.research.google.com/github/KGrzegorzewski/MachineLearning/blob/master/SVM.ipynb\" target=\"_parent\"><img src=\"https://colab.research.google.com/assets/colab-badge.svg\" alt=\"Open In Colab\"/></a>"
      ]
    },
    {
      "cell_type": "code",
      "metadata": {
        "id": "yLc12BMU0X37",
        "colab_type": "code",
        "colab": {}
      },
      "source": [
        "import sklearn\n",
        "from sklearn import datasets\n",
        "from sklearn import svm\n",
        "from sklearn import metrics\n",
        "from sklearn.neighbors import KNeighborsClassifier"
      ],
      "execution_count": 0,
      "outputs": []
    },
    {
      "cell_type": "code",
      "metadata": {
        "id": "uzTTtMYj2ByF",
        "colab_type": "code",
        "outputId": "8ebde760-b881-43ec-f4be-964aab6557af",
        "colab": {
          "base_uri": "https://localhost:8080/",
          "height": 180
        }
      },
      "source": [
        "cancer = datasets.load_breast_cancer()\n",
        "print(cancer.feature_names)\n",
        "print(cancer.target_names)"
      ],
      "execution_count": 3,
      "outputs": [
        {
          "output_type": "stream",
          "text": [
            "['mean radius' 'mean texture' 'mean perimeter' 'mean area'\n",
            " 'mean smoothness' 'mean compactness' 'mean concavity'\n",
            " 'mean concave points' 'mean symmetry' 'mean fractal dimension'\n",
            " 'radius error' 'texture error' 'perimeter error' 'area error'\n",
            " 'smoothness error' 'compactness error' 'concavity error'\n",
            " 'concave points error' 'symmetry error' 'fractal dimension error'\n",
            " 'worst radius' 'worst texture' 'worst perimeter' 'worst area'\n",
            " 'worst smoothness' 'worst compactness' 'worst concavity'\n",
            " 'worst concave points' 'worst symmetry' 'worst fractal dimension']\n",
            "['malignant' 'benign']\n"
          ],
          "name": "stdout"
        }
      ]
    },
    {
      "cell_type": "code",
      "metadata": {
        "id": "xppmA0Zk2ox9",
        "colab_type": "code",
        "colab": {}
      },
      "source": [
        "#Pobranie danych\n",
        "x = cancer.data\n",
        "y = cancer.target\n",
        "\n",
        "#Wyseparowanie danych testowych od treningowych\n",
        "x_train, x_test, y_train, y_test = sklearn.model_selection.train_test_split(x, y, test_size = 0.2)"
      ],
      "execution_count": 0,
      "outputs": []
    },
    {
      "cell_type": "code",
      "metadata": {
        "id": "E6WBeIY3EZg7",
        "colab_type": "code",
        "colab": {}
      },
      "source": [
        "classes = ['malignant', 'benign']"
      ],
      "execution_count": 0,
      "outputs": []
    },
    {
      "cell_type": "code",
      "metadata": {
        "id": "_7LlcJ-BF1iZ",
        "colab_type": "code",
        "colab": {
          "base_uri": "https://localhost:8080/",
          "height": 33
        },
        "outputId": "454860f4-54ed-491c-cb2b-c7c2e67b81b4"
      },
      "source": [
        "#Uczenie sieci, dodanie róznych parametrów powoduje różne wyniki, na temat parametrów trzeba się trochę dowiedzieć\n",
        "clf = svm.SVC(kernel=\"linear\", C=2)\n",
        "clf.fit(x_train, y_train)\n",
        "#Sprawdzenie na danych testowych oraz wyswietlenie dokładności\n",
        "y_pred = clf.predict(x_test)\n",
        "acc = metrics.accuracy_score(y_test, y_pred)\n",
        "print(acc)"
      ],
      "execution_count": 31,
      "outputs": [
        {
          "output_type": "stream",
          "text": [
            "0.9649122807017544\n"
          ],
          "name": "stdout"
        }
      ]
    },
    {
      "cell_type": "code",
      "metadata": {
        "id": "S7UrJNYLIGj7",
        "colab_type": "code",
        "colab": {
          "base_uri": "https://localhost:8080/",
          "height": 33
        },
        "outputId": "f6c010e4-02e7-4d61-da77-9e3e8ebd4902"
      },
      "source": [
        "#Sprawdzenie na algorytmie K najblizszych sasiadow\n",
        "clf = KNeighborsClassifier(n_neighbors=9)\n",
        "clf.fit(x_train, y_train)\n",
        "#Sprawdzenie na danych testowych oraz wyswietlenie dokładności\n",
        "y_pred = clf.predict(x_test)\n",
        "acc = metrics.accuracy_score(y_test, y_pred)\n",
        "print(acc)"
      ],
      "execution_count": 32,
      "outputs": [
        {
          "output_type": "stream",
          "text": [
            "0.9385964912280702\n"
          ],
          "name": "stdout"
        }
      ]
    }
  ]
}
